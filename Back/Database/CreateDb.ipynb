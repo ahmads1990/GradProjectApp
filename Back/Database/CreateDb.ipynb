{
 "cells": [
  {
   "cell_type": "code",
   "execution_count": 1,
   "metadata": {},
   "outputs": [
    {
     "data": {
      "text/plain": [
       "<sqlite3.Connection at 0x230d8d223f0>"
      ]
     },
     "execution_count": 1,
     "metadata": {},
     "output_type": "execute_result"
    }
   ],
   "source": [
    "import sqlite3\n",
    "sqlite3.connect('PatientDatabase')"
   ]
  },
  {
   "cell_type": "code",
   "execution_count": 2,
   "metadata": {},
   "outputs": [],
   "source": [
    "conn = sqlite3.connect('PatientDatabase') \n",
    "c = conn.cursor()\n",
    "c.execute('''\n",
    "          CREATE TABLE IF NOT EXISTS patient\n",
    "          (\n",
    "            [patient_id] INTEGER PRIMARY KEY AUTOINCREMENT, \n",
    "            [patient_name] TEXT NOT NULL,\n",
    "            [patient_age] INTEGER NOT NULL,\n",
    "            [patient_status] TEXT NOT NULL\n",
    "            )\n",
    "          ''')\n",
    "          \n",
    "c.execute('''\n",
    "          CREATE TABLE IF NOT EXISTS session\n",
    "          (\n",
    "            [session_id] INTEGER PRIMARY KEY AUTOINCREMENT,\n",
    "            [session_date] datetime default current_timestamp,   \n",
    "            [session_pathologies] TEXT NOT NULL,\n",
    "            [speaker_id] INTEGER,\n",
    "            FOREIGN KEY(speaker_id) REFERENCES patient(patient_id)\n",
    "            )\n",
    "          ''')\n",
    "                     \n",
    "conn.commit()"
   ]
  }
 ],
 "metadata": {
  "kernelspec": {
   "display_name": "neural",
   "language": "python",
   "name": "python3"
  },
  "language_info": {
   "codemirror_mode": {
    "name": "ipython",
    "version": 3
   },
   "file_extension": ".py",
   "mimetype": "text/x-python",
   "name": "python",
   "nbconvert_exporter": "python",
   "pygments_lexer": "ipython3",
   "version": "3.8.16"
  },
  "orig_nbformat": 4
 },
 "nbformat": 4,
 "nbformat_minor": 2
}
