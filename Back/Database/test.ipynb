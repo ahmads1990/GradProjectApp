{
 "cells": [
  {
   "cell_type": "code",
   "execution_count": 1,
   "metadata": {},
   "outputs": [],
   "source": [
    "import sqlite3\n",
    "\n",
    "# Create database and connect\n",
    "#db = sqlite3.connect(\"Database/GP.db\")"
   ]
  },
  {
   "cell_type": "code",
   "execution_count": 8,
   "metadata": {},
   "outputs": [
    {
     "name": "stdout",
     "output_type": "stream",
     "text": [
      "ID: 1\n",
      "Description: healthy\n",
      "Name: healthy\n",
      "Type: healthy\n",
      "\n",
      "ID: 2\n",
      "Description: pathology\n",
      "Name: pathology\n",
      "Type: pathology\n",
      "\n"
     ]
    }
   ],
   "source": [
    "# Connect to the SQLite database\n",
    "conn = sqlite3.connect(\"GP.db\")\n",
    "cursor = conn.cursor()\n",
    "\n",
    "# Execute the SQL query to retrieve all pathologies\n",
    "cursor.execute(\"SELECT * FROM pathologies\")\n",
    "pathologies = cursor.fetchall()\n",
    "\n",
    "# Print the pathologies\n",
    "for pathology in pathologies:\n",
    "    id, description, name, type = pathology\n",
    "    print(f\"ID: {id}\")\n",
    "    print(f\"Description: {description}\")\n",
    "    print(f\"Name: {name}\")\n",
    "    print(f\"Type: {type}\")\n",
    "    print(\"\")\n",
    "\n",
    "# Close the database connection\n",
    "conn.close()"
   ]
  },
  {
   "cell_type": "code",
   "execution_count": 5,
   "metadata": {},
   "outputs": [
    {
     "ename": "NameError",
     "evalue": "name 'name' is not defined",
     "output_type": "error",
     "traceback": [
      "\u001b[1;31m---------------------------------------------------------------------------\u001b[0m",
      "\u001b[1;31mNameError\u001b[0m                                 Traceback (most recent call last)",
      "Cell \u001b[1;32mIn[5], line 6\u001b[0m\n\u001b[0;32m      3\u001b[0m cursor \u001b[39m=\u001b[39m conn\u001b[39m.\u001b[39mcursor()\n\u001b[0;32m      5\u001b[0m \u001b[39m# Execute the SQL query to retrieve all pathologies\u001b[39;00m\n\u001b[1;32m----> 6\u001b[0m cursor\u001b[39m.\u001b[39mexecute(\u001b[39m\"\u001b[39m\u001b[39mSELECT * FROM pathologies WHERE name = ?\u001b[39m\u001b[39m\"\u001b[39m, (name,))\n\u001b[0;32m      7\u001b[0m pathologies \u001b[39m=\u001b[39m cursor\u001b[39m.\u001b[39mfetchall()\n\u001b[0;32m      9\u001b[0m \u001b[39m# Print the pathologies\u001b[39;00m\n",
      "\u001b[1;31mNameError\u001b[0m: name 'name' is not defined"
     ]
    }
   ],
   "source": [
    "# Connect to the SQLite database\n",
    "conn = sqlite3.connect(\"GP.db\")\n",
    "cursor = conn.cursor()\n",
    "\n",
    "# Execute the SQL query to retrieve all pathologies\n",
    "cursor.execute(\"SELECT * FROM pathologies WHERE name = ?\", (name,))\n",
    "pathologies = cursor.fetchall()\n",
    "\n",
    "# Print the pathologies\n",
    "for pathology in pathologies:\n",
    "    id, description, name, type = pathology\n",
    "    print(f\"ID: {id}\")\n",
    "    print(f\"Description: {description}\")\n",
    "    print(f\"Name: {name}\")\n",
    "    print(f\"Type: {type}\")\n",
    "    print(\"\")\n",
    "\n",
    "# Close the database connection\n",
    "conn.close()"
   ]
  },
  {
   "cell_type": "code",
   "execution_count": 7,
   "metadata": {},
   "outputs": [
    {
     "name": "stdout",
     "output_type": "stream",
     "text": [
      "Pathology inserted successfully!\n"
     ]
    }
   ],
   "source": [
    "# Connect to the SQLite database\n",
    "conn = sqlite3.connect(\"GP.db\")\n",
    "cursor = conn.cursor()\n",
    "\n",
    "# Prompt the user for pathology details\n",
    "description = input(\"Enter the description of the pathology: \")\n",
    "name = input(\"Enter the name of the pathology: \")\n",
    "type = input(\"Enter the type of the pathology: \")\n",
    "\n",
    "query = \"INSERT INTO pathologies (description, name, type) VALUES (?, ?, ?)\"\n",
    "cursor.execute(query, (description, name, type))\n",
    "conn.commit()\n",
    "\n",
    "print(\"Pathology inserted successfully!\")\n",
    "\n",
    "# Close the database connection\n",
    "conn.close()"
   ]
  }
 ],
 "metadata": {
  "kernelspec": {
   "display_name": "project",
   "language": "python",
   "name": "python3"
  },
  "language_info": {
   "codemirror_mode": {
    "name": "ipython",
    "version": 3
   },
   "file_extension": ".py",
   "mimetype": "text/x-python",
   "name": "python",
   "nbconvert_exporter": "python",
   "pygments_lexer": "ipython3",
   "version": "3.9.16"
  },
  "orig_nbformat": 4
 },
 "nbformat": 4,
 "nbformat_minor": 2
}
